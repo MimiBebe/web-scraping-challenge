{
 "cells": [
  {
   "cell_type": "markdown",
   "metadata": {},
   "source": [
    "# Step 1 - Web Scraping"
   ]
  },
  {
   "cell_type": "code",
   "execution_count": 1,
   "metadata": {},
   "outputs": [],
   "source": [
    "import pymongo\n",
    "from bs4 import BeautifulSoup as bs\n",
    "import requests\n",
    "from splinter import Browser\n",
    "import pandas as pd"
   ]
  },
  {
   "cell_type": "code",
   "execution_count": 2,
   "metadata": {},
   "outputs": [],
   "source": [
    "executable_path = {'executable_path': 'c:/bin/chromedriver.exe'}\n",
    "browser = Browser('chrome', **executable_path, headless=False)"
   ]
  },
  {
   "cell_type": "markdown",
   "metadata": {},
   "source": [
    "## NASA Mars News"
   ]
  },
  {
   "cell_type": "code",
   "execution_count": 3,
   "metadata": {},
   "outputs": [],
   "source": [
    "marsNewsUrl = 'https://mars.nasa.gov/news/'\n",
    "browser.visit(marsNewsUrl)"
   ]
  },
  {
   "cell_type": "code",
   "execution_count": 4,
   "metadata": {},
   "outputs": [],
   "source": [
    "# Retrieve page with the requests module - if desire\n",
    "# response = requests.get(url)\n",
    "\n",
    "# Create BeautifulSoup object; parse with 'html.parser'\n",
    "# soup = BeautifulSoup(response.text,'html.parser')\n",
    "\n",
    "# Examine the results, then determine element that contains sought info\n",
    "# print(soup.prettify())"
   ]
  },
  {
   "cell_type": "code",
   "execution_count": 5,
   "metadata": {},
   "outputs": [],
   "source": [
    "html = browser.html\n",
    "soup = bs(html,'html.parser')\n",
    "\n",
    "allSlides = soup.find_all('div', class_=\"list_text\")\n",
    "rootUrl = 'https://mars.nasa.gov'\n",
    "\n",
    "titles = []\n",
    "dates = []\n",
    "previews = []\n",
    "links = []\n",
    "\n",
    "# print the first 5 recent artciles/slides\n",
    "for slide in allSlides:\n",
    "    listDate = slide.find('div',class_=\"list_date\")\n",
    "    slideTitle = slide.find('div',class_=\"content_title\")\n",
    "    title = slideTitle.find('a')\n",
    "    link = rootUrl + title['href']\n",
    "    preview = slide.find('div', class_=\"article_teaser_body\")\n",
    "    \n",
    "    titles.append(title.text)\n",
    "    dates.append(listDate.text)\n",
    "    links.append(link)\n",
    "    previews.append(preview.text)\n",
    "    \n",
    "#     display    \n",
    "#     print('--------')\n",
    "#     print(listDate.text)\n",
    "#     print(title.text) \n",
    "#     print(link)\n",
    "#     print(preview.text)"
   ]
  },
  {
   "cell_type": "code",
   "execution_count": 6,
   "metadata": {},
   "outputs": [
    {
     "data": {
      "text/html": [
       "<div>\n",
       "<style scoped>\n",
       "    .dataframe tbody tr th:only-of-type {\n",
       "        vertical-align: middle;\n",
       "    }\n",
       "\n",
       "    .dataframe tbody tr th {\n",
       "        vertical-align: top;\n",
       "    }\n",
       "\n",
       "    .dataframe thead th {\n",
       "        text-align: right;\n",
       "    }\n",
       "</style>\n",
       "<table border=\"1\" class=\"dataframe\">\n",
       "  <thead>\n",
       "    <tr style=\"text-align: right;\">\n",
       "      <th></th>\n",
       "      <th>Title</th>\n",
       "      <th>Date</th>\n",
       "      <th>Link</th>\n",
       "      <th>Preview</th>\n",
       "    </tr>\n",
       "  </thead>\n",
       "  <tbody>\n",
       "    <tr>\n",
       "      <th>0</th>\n",
       "      <td>NASA Readies Perseverance Mars Rover's Earthly...</td>\n",
       "      <td>September  4, 2020</td>\n",
       "      <td>https://mars.nasa.gov/news/8749/nasa-readies-p...</td>\n",
       "      <td>Did you know NASA's next Mars rover has a near...</td>\n",
       "    </tr>\n",
       "    <tr>\n",
       "      <th>1</th>\n",
       "      <td>NASA Engineers Checking InSight's Weather Sensors</td>\n",
       "      <td>August 24, 2020</td>\n",
       "      <td>https://mars.nasa.gov/news/8744/nasa-engineers...</td>\n",
       "      <td>An electronics issue is suspected to be preven...</td>\n",
       "    </tr>\n",
       "    <tr>\n",
       "      <th>2</th>\n",
       "      <td>Follow NASA's Perseverance Rover in Real Time ...</td>\n",
       "      <td>August 21, 2020</td>\n",
       "      <td>https://mars.nasa.gov/news/8742/follow-nasas-p...</td>\n",
       "      <td>A crisply rendered web application can show yo...</td>\n",
       "    </tr>\n",
       "    <tr>\n",
       "      <th>3</th>\n",
       "      <td>NASA Establishes Board to Initially Review Mar...</td>\n",
       "      <td>August 14, 2020</td>\n",
       "      <td>https://mars.nasa.gov/news/8737/nasa-establish...</td>\n",
       "      <td>The board will assist with analysis of current...</td>\n",
       "    </tr>\n",
       "    <tr>\n",
       "      <th>4</th>\n",
       "      <td>NASA's Ingenuity Mars Helicopter Recharges Its...</td>\n",
       "      <td>August 13, 2020</td>\n",
       "      <td>https://mars.nasa.gov/news/8736/nasas-ingenuit...</td>\n",
       "      <td>Headed to the Red Planet with the Perseverance...</td>\n",
       "    </tr>\n",
       "  </tbody>\n",
       "</table>\n",
       "</div>"
      ],
      "text/plain": [
       "                                               Title                Date  \\\n",
       "0  NASA Readies Perseverance Mars Rover's Earthly...  September  4, 2020   \n",
       "1  NASA Engineers Checking InSight's Weather Sensors     August 24, 2020   \n",
       "2  Follow NASA's Perseverance Rover in Real Time ...     August 21, 2020   \n",
       "3  NASA Establishes Board to Initially Review Mar...     August 14, 2020   \n",
       "4  NASA's Ingenuity Mars Helicopter Recharges Its...     August 13, 2020   \n",
       "\n",
       "                                                Link  \\\n",
       "0  https://mars.nasa.gov/news/8749/nasa-readies-p...   \n",
       "1  https://mars.nasa.gov/news/8744/nasa-engineers...   \n",
       "2  https://mars.nasa.gov/news/8742/follow-nasas-p...   \n",
       "3  https://mars.nasa.gov/news/8737/nasa-establish...   \n",
       "4  https://mars.nasa.gov/news/8736/nasas-ingenuit...   \n",
       "\n",
       "                                             Preview  \n",
       "0  Did you know NASA's next Mars rover has a near...  \n",
       "1  An electronics issue is suspected to be preven...  \n",
       "2  A crisply rendered web application can show yo...  \n",
       "3  The board will assist with analysis of current...  \n",
       "4  Headed to the Red Planet with the Perseverance...  "
      ]
     },
     "execution_count": 6,
     "metadata": {},
     "output_type": "execute_result"
    }
   ],
   "source": [
    "slideData = {'Title': titles, 'Date': dates, 'Link': links, 'Preview': previews}\n",
    "slideDf = pd.DataFrame(data=slideData)\n",
    "slideDf.head(5)"
   ]
  },
  {
   "cell_type": "code",
   "execution_count": 7,
   "metadata": {},
   "outputs": [
    {
     "name": "stdout",
     "output_type": "stream",
     "text": [
      "NASA Readies Perseverance Mars Rover's Earthly Twin \n",
      "Did you know NASA's next Mars rover has a nearly identical sibling on Earth for testing? Even better, it's about to roll for the first time through a replica Martian landscape.\n"
     ]
    }
   ],
   "source": [
    "# Latest article\n",
    "# Assum first entry in teh dataframe\n",
    "latestArticleTitle = slideDf.Title[0]\n",
    "latestArticlePreview = slideDf.Preview[0]\n",
    "\n",
    "print(latestArticleTitle)\n",
    "print(latestArticlePreview)"
   ]
  },
  {
   "cell_type": "markdown",
   "metadata": {},
   "source": [
    "## JPL Mars Space Images - Featured Image"
   ]
  },
  {
   "cell_type": "code",
   "execution_count": 8,
   "metadata": {},
   "outputs": [],
   "source": [
    "MarsPicUrl = \"https://www.jpl.nasa.gov/spaceimages/?search=&category=Mars\"\n",
    "browser.visit(MarsPicUrl)"
   ]
  },
  {
   "cell_type": "code",
   "execution_count": 9,
   "metadata": {},
   "outputs": [],
   "source": [
    "# Create BeautifulSoup object; parse with 'html.parser'\n",
    "html = browser.html\n",
    "soup = bs(html,'html.parser')\n",
    "# print(soup.prettify())"
   ]
  },
  {
   "cell_type": "code",
   "execution_count": 10,
   "metadata": {},
   "outputs": [],
   "source": [
    "rootImgUrl = 'https://www.jpl.nasa.gov'\n",
    "allImages = soup.find_all('a', class_=\"fancybox\")\n",
    "\n",
    "marsImg = []\n",
    "for img in allImages:\n",
    "    curImg = img['data-fancybox-href']\n",
    "    curUrl = rootImgUrl + curImg\n",
    "    marsImg.append(curUrl)"
   ]
  },
  {
   "cell_type": "code",
   "execution_count": 11,
   "metadata": {},
   "outputs": [
    {
     "name": "stdout",
     "output_type": "stream",
     "text": [
      "https://www.jpl.nasa.gov/spaceimages/images/largesize/PIA24076_hires.jpg\n"
     ]
    }
   ],
   "source": [
    "#  choose any one as a feature image\n",
    "featured_image_url = marsImg[10]\n",
    "print(featured_image_url)"
   ]
  },
  {
   "cell_type": "markdown",
   "metadata": {},
   "source": [
    "## Mars Facts"
   ]
  },
  {
   "cell_type": "code",
   "execution_count": 12,
   "metadata": {},
   "outputs": [],
   "source": [
    "marsFactUrl = 'https://space-facts.com/mars/'\n",
    "browser.visit(marsFactUrl)"
   ]
  },
  {
   "cell_type": "code",
   "execution_count": 13,
   "metadata": {},
   "outputs": [],
   "source": [
    "html = browser.html\n",
    "soup = bs(html,'html.parser')"
   ]
  },
  {
   "cell_type": "code",
   "execution_count": 14,
   "metadata": {},
   "outputs": [
    {
     "data": {
      "text/html": [
       "<div>\n",
       "<style scoped>\n",
       "    .dataframe tbody tr th:only-of-type {\n",
       "        vertical-align: middle;\n",
       "    }\n",
       "\n",
       "    .dataframe tbody tr th {\n",
       "        vertical-align: top;\n",
       "    }\n",
       "\n",
       "    .dataframe thead th {\n",
       "        text-align: right;\n",
       "    }\n",
       "</style>\n",
       "<table border=\"1\" class=\"dataframe\">\n",
       "  <thead>\n",
       "    <tr style=\"text-align: right;\">\n",
       "      <th></th>\n",
       "      <th>Value</th>\n",
       "    </tr>\n",
       "    <tr>\n",
       "      <th>Fact</th>\n",
       "      <th></th>\n",
       "    </tr>\n",
       "  </thead>\n",
       "  <tbody>\n",
       "    <tr>\n",
       "      <th>Equatorial Diameter:</th>\n",
       "      <td>6,792 km</td>\n",
       "    </tr>\n",
       "    <tr>\n",
       "      <th>Polar Diameter:</th>\n",
       "      <td>6,752 km</td>\n",
       "    </tr>\n",
       "    <tr>\n",
       "      <th>Mass:</th>\n",
       "      <td>6.39 × 10^23 kg (0.11 Earths)</td>\n",
       "    </tr>\n",
       "    <tr>\n",
       "      <th>Moons:</th>\n",
       "      <td>2 (Phobos &amp; Deimos)</td>\n",
       "    </tr>\n",
       "    <tr>\n",
       "      <th>Orbit Distance:</th>\n",
       "      <td>227,943,824 km (1.38 AU)</td>\n",
       "    </tr>\n",
       "    <tr>\n",
       "      <th>Orbit Period:</th>\n",
       "      <td>687 days (1.9 years)</td>\n",
       "    </tr>\n",
       "    <tr>\n",
       "      <th>Surface Temperature:</th>\n",
       "      <td>-87 to -5 °C</td>\n",
       "    </tr>\n",
       "    <tr>\n",
       "      <th>First Record:</th>\n",
       "      <td>2nd millennium BC</td>\n",
       "    </tr>\n",
       "    <tr>\n",
       "      <th>Recorded By:</th>\n",
       "      <td>Egyptian astronomers</td>\n",
       "    </tr>\n",
       "  </tbody>\n",
       "</table>\n",
       "</div>"
      ],
      "text/plain": [
       "                                              Value\n",
       "Fact                                               \n",
       "Equatorial Diameter:                       6,792 km\n",
       "Polar Diameter:                            6,752 km\n",
       "Mass:                 6.39 × 10^23 kg (0.11 Earths)\n",
       "Moons:                          2 (Phobos & Deimos)\n",
       "Orbit Distance:            227,943,824 km (1.38 AU)\n",
       "Orbit Period:                  687 days (1.9 years)\n",
       "Surface Temperature:                   -87 to -5 °C\n",
       "First Record:                     2nd millennium BC\n",
       "Recorded By:                   Egyptian astronomers"
      ]
     },
     "execution_count": 14,
     "metadata": {},
     "output_type": "execute_result"
    }
   ],
   "source": [
    "marsFact = pd.read_html(marsFactUrl)\n",
    "marsFactDf = marsFact[0]\n",
    "marsFactDf.columns = ['Fact', 'Value']\n",
    "marsFactDf= marsFactDf.set_index('Fact')\n",
    "marsFactDf"
   ]
  },
  {
   "cell_type": "markdown",
   "metadata": {},
   "source": [
    "## Mars Hemispheres"
   ]
  },
  {
   "cell_type": "code",
   "execution_count": 15,
   "metadata": {},
   "outputs": [],
   "source": [
    "marsHemiUrl = 'https://astrogeology.usgs.gov/search/results?q=hemisphere+enhanced&k1=target&v1=Mars'\n",
    "browser.visit(marsHemiUrl)"
   ]
  },
  {
   "cell_type": "code",
   "execution_count": 16,
   "metadata": {},
   "outputs": [],
   "source": [
    "html = browser.html\n",
    "soup = bs(html,'html.parser')\n",
    "\n",
    "allHemi = soup.find_all('div', class_=\"description\")\n",
    "rootUrl = 'https://astrogeology.usgs.gov'\n",
    "\n",
    "hemiTitles = []\n",
    "hemiMainUrl = []\n",
    "\n",
    "# print the first 5 recent artciles/slides\n",
    "for hemi in allHemi:\n",
    "    linkRef = hemi.find('a')\n",
    "    link =  rootUrl + linkRef['href']\n",
    "    title = hemi.find('h3').text\n",
    "    \n",
    "    hemiTitles.append(title)\n",
    "    hemiMainUrl.append(link)\n",
    "    \n",
    "#     display\n",
    "#     print(title)\n",
    "#     print(link)\n",
    "#     print('----------')\n",
    "    \n",
    "zipHemi = list(zip(hemiTitles,hemiMainUrl))"
   ]
  },
  {
   "cell_type": "code",
   "execution_count": 17,
   "metadata": {},
   "outputs": [
    {
     "name": "stdout",
     "output_type": "stream",
     "text": [
      "[{'title': 'Cerberus Hemisphere Enhanced', 'image_url': 'https://astropedia.astrogeology.usgs.gov/download/Mars/Viking/cerberus_enhanced.tif/full.jpg'}, {'title': 'Schiaparelli Hemisphere Enhanced', 'image_url': 'https://astropedia.astrogeology.usgs.gov/download/Mars/Viking/schiaparelli_enhanced.tif/full.jpg'}, {'title': 'Syrtis Major Hemisphere Enhanced', 'image_url': 'https://astropedia.astrogeology.usgs.gov/download/Mars/Viking/syrtis_major_enhanced.tif/full.jpg'}, {'title': 'Valles Marineris Hemisphere Enhanced', 'image_url': 'https://astropedia.astrogeology.usgs.gov/download/Mars/Viking/valles_marineris_enhanced.tif/full.jpg'}]\n"
     ]
    }
   ],
   "source": [
    "marsHemiImg = []\n",
    "for curTitle, curMainUrl in zipHemi:\n",
    "    browser.visit(curMainUrl)\n",
    "    html = browser.html\n",
    "    soup = bs(html,'html.parser')\n",
    "    curHemi = soup.find('div', class_=\"wide-image-wrapper\").find('a')\n",
    "    curHemiLink = curHemi['href']\n",
    "    curDict = {'title': curTitle, 'image_url': curHemiLink}\n",
    "    marsHemiImg.append(curDict)\n",
    "\n",
    "print(marsHemiImg)"
   ]
  },
  {
   "cell_type": "code",
   "execution_count": null,
   "metadata": {},
   "outputs": [],
   "source": []
  }
 ],
 "metadata": {
  "kernelspec": {
   "display_name": "Python 3",
   "language": "python",
   "name": "python3"
  },
  "language_info": {
   "codemirror_mode": {
    "name": "ipython",
    "version": 3
   },
   "file_extension": ".py",
   "mimetype": "text/x-python",
   "name": "python",
   "nbconvert_exporter": "python",
   "pygments_lexer": "ipython3",
   "version": "3.6.10"
  }
 },
 "nbformat": 4,
 "nbformat_minor": 4
}
